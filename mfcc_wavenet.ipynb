{
 "cells": [
  {
   "cell_type": "code",
   "execution_count": 1,
   "metadata": {
    "collapsed": true
   },
   "outputs": [],
   "source": [
    "from data.dataset import *\n",
    "from models import wavenet_model\n",
    "import sys, os\n",
    "import torch\n",
    "import librosa\n",
    "import numpy as np\n",
    "import pandas as pd\n",
    "from torch import Tensor\n",
    "from scipy.io import wavfile\n",
    "from torchvision import transforms\n",
    "from torch.utils.data import DataLoader\n",
    "from torch.utils.data.dataset import Dataset\n",
    "from torch.utils.data.sampler import SubsetRandomSampler, WeightedRandomSampler\n",
    " "
   ]
  },
  {
   "cell_type": "code",
   "execution_count": 2,
   "metadata": {},
   "outputs": [],
   "source": [
    "trainloader, _ = get_train_validation_data_loader(Config(),validation_size=0.3,shuffle=True)"
   ]
  },
  {
   "cell_type": "code",
   "execution_count": 8,
   "metadata": {},
   "outputs": [
    {
     "name": "stdout",
     "output_type": "stream",
     "text": [
      "torch.Size([32, 40, 187])\n"
     ]
    },
    {
     "name": "stdout",
     "output_type": "stream",
     "text": [
      "tensor([[ 0.4003,  0.0656, -0.5795,  ...,  0.2048,  0.1899, -0.1579],\n        [ 0.2166, -0.1320, -0.3465,  ...,  0.0060,  0.2192,  0.0001],\n        [ 0.4026,  0.0398, -0.4600,  ...,  0.1364,  0.4013, -0.1057],\n        ...,\n        [ 0.3962,  0.0375, -0.4659,  ...,  0.1581,  0.4113, -0.1116],\n        [ 0.1174, -0.2286, -0.2872,  ..., -0.0909,  0.1684, -0.0523],\n        [ 0.2822,  0.0947, -0.5346,  ...,  0.0455,  0.1859, -0.1872]])\ntorch.Size([32, 41])\n"
     ]
    }
   ],
   "source": [
    "for index, (data, label,_) in enumerate(trainloader):\n",
    "    #print(label.numpy())\n",
    "    \n",
    "    \n",
    "    data=data.squeeze()\n",
    "    print(data.shape)\n",
    "    #plt.imshow(data.squeeze().numpy()[ :, :50],cmap='hot', interpolation='nearest')\n",
    "    #plt.show()\n",
    "    y = model(data)\n",
    "    print(y)\n",
    "    print(y.shape)\n",
    "\n",
    "    if index == 0:\n",
    "        break"
   ]
  },
  {
   "cell_type": "code",
   "execution_count": 5,
   "metadata": {},
   "outputs": [
    {
     "data": {
      "text/plain": [
       "torch.Size([32, 256])"
      ]
     },
     "execution_count": 5,
     "metadata": {},
     "output_type": "execute_result"
    }
   ],
   "source": [
    "y.shape"
   ]
  },
  {
   "cell_type": "code",
   "execution_count": 18,
   "metadata": {
    "collapsed": true
   },
   "outputs": [
    {
     "name": "stdout",
     "output_type": "stream",
     "text": [
      "32761\n38910\n"
     ]
    }
   ],
   "source": [
    "dtype = torch.FloatTensor # data type\n",
    "model = wavenet_model.WaveNetModel(layers=12,\n",
    "                                   blocks=4,\n",
    "                                   in_channels=40,\n",
    "                                   dilation_channels=32,\n",
    "                                   residual_channels=32,\n",
    "                                   skip_channels=256,\n",
    "                                   end_channels=256,\n",
    "                                   output_length=6150,\n",
    "                                   classes=41,\n",
    "                                   kernel_size=3,\n",
    "                                   dtype=dtype,\n",
    "                                   bias=True)\n",
    "print(model.receptive_field)\n",
    "print(model.receptive_field + model.output_length -1)"
   ]
  },
  {
   "cell_type": "code",
   "execution_count": 3,
   "metadata": {
    "collapsed": true
   },
   "outputs": [
    {
     "data": {
      "text/plain": [
       "torch.Size([128, 40, 187])"
      ]
     },
     "execution_count": 3,
     "metadata": {},
     "output_type": "execute_result"
    }
   ],
   "source": [
    "a = torch.ones([128,40,187])\n",
    "a.shape"
   ]
  },
  {
   "cell_type": "code",
   "execution_count": 4,
   "metadata": {
    "collapsed": true
   },
   "outputs": [
    {
     "name": "stdout",
     "output_type": "stream",
     "text": [
      "torch.Size([128, 41])\n"
     ]
    }
   ],
   "source": [
    "y = model(a)\n",
    "print(y.shape)"
   ]
  },
  {
   "cell_type": "code",
   "execution_count": 20,
   "metadata": {
    "collapsed": true
   },
   "outputs": [
    {
     "name": "stdout",
     "output_type": "stream",
     "text": [
      "WaveNetModel(\n  (filter_convs): ModuleList(\n    (0): Conv1d(32, 32, kernel_size=(2,), stride=(1,))\n    (1): Conv1d(32, 32, kernel_size=(2,), stride=(1,))\n    (2): Conv1d(32, 32, kernel_size=(2,), stride=(1,))\n    (3): Conv1d(32, 32, kernel_size=(2,), stride=(1,))\n    (4): Conv1d(32, 32, kernel_size=(2,), stride=(1,))\n    (5): Conv1d(32, 32, kernel_size=(2,), stride=(1,))\n  )\n  (gate_convs): ModuleList(\n    (0): Conv1d(32, 32, kernel_size=(2,), stride=(1,))\n    (1): Conv1d(32, 32, kernel_size=(2,), stride=(1,))\n    (2): Conv1d(32, 32, kernel_size=(2,), stride=(1,))\n    (3): Conv1d(32, 32, kernel_size=(2,), stride=(1,))\n    (4): Conv1d(32, 32, kernel_size=(2,), stride=(1,))\n    (5): Conv1d(32, 32, kernel_size=(2,), stride=(1,))\n  )\n  (residual_convs): ModuleList(\n    (0): Conv1d(32, 32, kernel_size=(1,), stride=(1,))\n    (1): Conv1d(32, 32, kernel_size=(1,), stride=(1,))\n    (2): Conv1d(32, 32, kernel_size=(1,), stride=(1,))\n    (3): Conv1d(32, 32, kernel_size=(1,), stride=(1,))\n    (4): Conv1d(32, 32, kernel_size=(1,), stride=(1,))\n    (5): Conv1d(32, 32, kernel_size=(1,), stride=(1,))\n  )\n  (skip_convs): ModuleList(\n    (0): Conv1d(32, 512, kernel_size=(1,), stride=(1,))\n    (1): Conv1d(32, 512, kernel_size=(1,), stride=(1,))\n    (2): Conv1d(32, 512, kernel_size=(1,), stride=(1,))\n    (3): Conv1d(32, 512, kernel_size=(1,), stride=(1,))\n    (4): Conv1d(32, 512, kernel_size=(1,), stride=(1,))\n    (5): Conv1d(32, 512, kernel_size=(1,), stride=(1,))\n  )\n  (start_conv): Conv1d(40, 32, kernel_size=(1,), stride=(1,))\n  (end_conv_1): Conv1d(512, 512, kernel_size=(1,), stride=(1,))\n  (end_conv_2): Conv1d(512, 41, kernel_size=(1,), stride=(1,))\n)\n"
     ]
    }
   ],
   "source": [
    "print(model)"
   ]
  },
  {
   "cell_type": "code",
   "execution_count": 40,
   "metadata": {},
   "outputs": [],
   "source": [
    "x=a[:,:,0:-1]\n",
    "[n, c, l] = x.size()\n"
   ]
  },
  {
   "cell_type": "code",
   "execution_count": 41,
   "metadata": {},
   "outputs": [],
   "source": [
    "new_l = int(np.ceil(l / 2) * 2)"
   ]
  },
  {
   "cell_type": "code",
   "execution_count": 42,
   "metadata": {},
   "outputs": [],
   "source": [
    ""
   ]
  },
  {
   "cell_type": "code",
   "execution_count": 124,
   "metadata": {
    "collapsed": true
   },
   "outputs": [
    {
     "data": {
      "text/plain": [
       "2440    20\n2534    18\n2609    32\n2628    18\n2654    20\n2664    32\n2671    18\n2719    32\n2793     2\n2795     2\n2806    32\n2827    19\n2828    19\n2832     2\n2833    19\n2835    32\n2837    14\n2840    19\n2853    20\n2855    14\n2857    14\n2868    19\n2876     2\n2883    32\n2886     2\n2894    14\n2903    33\n2907    18\n2911     6\n2913     5\n        ..\n9443    12\n9444     7\n9445     6\n9446     9\n9447    20\n9448     4\n9449    31\n9450    40\n9451     2\n9452    26\n9453    17\n9454    13\n9455    32\n9456    12\n9457    12\n9458     4\n9459     8\n9460     5\n9461    27\n9462    14\n9463     9\n9464    26\n9465     5\n9466    28\n9467    36\n9468    31\n9469     0\n9470    12\n9471    20\n9472    17\nName: label_idx, Length: 6309, dtype: int64"
      ]
     },
     "execution_count": 124,
     "metadata": {},
     "output_type": "execute_result"
    }
   ],
   "source": [
    "train_set.label_idx"
   ]
  },
  {
   "cell_type": "code",
   "execution_count": 125,
   "metadata": {
    "collapsed": true
   },
   "outputs": [
    {
     "data": {
      "text/plain": [
       "[20,\n 18,\n 32,\n 18,\n 20,\n 32,\n 18,\n 32,\n 2,\n 2,\n 32,\n 19,\n 19,\n 2,\n 19,\n 32,\n 14,\n 19,\n 20,\n 14,\n 14,\n 19,\n 2,\n 32,\n 2,\n 14,\n 33,\n 18,\n 6,\n 5,\n 6,\n 14,\n 32,\n 6,\n 15,\n 14,\n 14,\n 2,\n 15,\n 32,\n 20,\n 32,\n 28,\n 32,\n 6,\n 5,\n 14,\n 33,\n 24,\n 15,\n 14,\n 4,\n 19,\n 24,\n 33,\n 28,\n 33,\n 19,\n 4,\n 6,\n 19,\n 4,\n 14,\n 33,\n 19,\n 32,\n 34,\n 6,\n 5,\n 4,\n 5,\n 34,\n 2,\n 34,\n 34,\n 15,\n 6,\n 0,\n 2,\n 34,\n 4,\n 14,\n 0,\n 18,\n 34,\n 0,\n 31,\n 14,\n 6,\n 31,\n 15,\n 0,\n 5,\n 31,\n 4,\n 4,\n 0,\n 10,\n 2,\n 33,\n 13,\n 5,\n 33,\n 2,\n 15,\n 33,\n 19,\n 23,\n 13,\n 13,\n 20,\n 20,\n 31,\n 13,\n 10,\n 2,\n 22,\n 4,\n 32,\n 13,\n 34,\n 34,\n 19,\n 0,\n 15,\n 2,\n 28,\n 15,\n 34,\n 33,\n 31,\n 13,\n 10,\n 13,\n 5,\n 31,\n 38,\n 15,\n 31,\n 2,\n 22,\n 11,\n 6,\n 10,\n 10,\n 2,\n 24,\n 5,\n 11,\n 14,\n 6,\n 4,\n 20,\n 19,\n 14,\n 21,\n 13,\n 0,\n 10,\n 21,\n 5,\n 28,\n 34,\n 4,\n 5,\n 0,\n 0,\n 19,\n 11,\n 28,\n 40,\n 24,\n 11,\n 2,\n 25,\n 2,\n 10,\n 5,\n 38,\n 27,\n 0,\n 21,\n 15,\n 38,\n 5,\n 25,\n 24,\n 11,\n 38,\n 11,\n 21,\n 13,\n 15,\n 24,\n 15,\n 15,\n 0,\n 32,\n 2,\n 19,\n 25,\n 13,\n 33,\n 13,\n 38,\n 28,\n 15,\n 15,\n 18,\n 18,\n 11,\n 34,\n 34,\n 5,\n 20,\n 13,\n 19,\n 31,\n 9,\n 6,\n 31,\n 2,\n 11,\n 25,\n 5,\n 11,\n 23,\n 15,\n 4,\n 28,\n 4,\n 6,\n 4,\n 31,\n 31,\n 20,\n 19,\n 7,\n 28,\n 1,\n 6,\n 22,\n 15,\n 31,\n 7,\n 25,\n 0,\n 6,\n 19,\n 10,\n 33,\n 18,\n 1,\n 1,\n 14,\n 31,\n 10,\n 15,\n 1,\n 38,\n 10,\n 30,\n 30,\n 25,\n 38,\n 23,\n 25,\n 28,\n 23,\n 14,\n 38,\n 22,\n 14,\n 19,\n 18,\n 26,\n 13,\n 22,\n 30,\n 15,\n 6,\n 7,\n 14,\n 14,\n 20,\n 6,\n 18,\n 30,\n 2,\n 30,\n 22,\n 30,\n 28,\n 4,\n 10,\n 9,\n 38,\n 15,\n 21,\n 10,\n 22,\n 10,\n 25,\n 18,\n 27,\n 13,\n 23,\n 10,\n 28,\n 24,\n 8,\n 5,\n 21,\n 10,\n 5,\n 18,\n 15,\n 0,\n 21,\n 1,\n 6,\n 15,\n 2,\n 25,\n 30,\n 14,\n 9,\n 4,\n 26,\n 1,\n 30,\n 5,\n 27,\n 7,\n 0,\n 7,\n 15,\n 18,\n 21,\n 26,\n 9,\n 38,\n 16,\n 13,\n 21,\n 26,\n 19,\n 23,\n 10,\n 32,\n 28,\n 31,\n 11,\n 7,\n 7,\n 21,\n 14,\n 23,\n 4,\n 14,\n 1,\n 34,\n 31,\n 4,\n 4,\n 31,\n 11,\n 33,\n 4,\n 11,\n 34,\n 24,\n 2,\n 1,\n 22,\n 25,\n 31,\n 14,\n 24,\n 23,\n 19,\n 0,\n 27,\n 40,\n 32,\n 25,\n 6,\n 40,\n 1,\n 31,\n 0,\n 7,\n 17,\n 27,\n 8,\n 21,\n 25,\n 1,\n 5,\n 21,\n 18,\n 11,\n 26,\n 22,\n 0,\n 23,\n 26,\n 17,\n 21,\n 28,\n 29,\n 9,\n 17,\n 38,\n 31,\n 11,\n 5,\n 32,\n 14,\n 15,\n 36,\n 29,\n 15,\n 13,\n 40,\n 30,\n 7,\n 17,\n 40,\n 26,\n 33,\n 14,\n 33,\n 20,\n 4,\n 28,\n 36,\n 28,\n 25,\n 17,\n 21,\n 0,\n 31,\n 26,\n 31,\n 29,\n 40,\n 10,\n 0,\n 5,\n 0,\n 4,\n 0,\n 6,\n 5,\n 5,\n 33,\n 27,\n 10,\n 13,\n 30,\n 1,\n 5,\n 38,\n 26,\n 24,\n 10,\n 37,\n 4,\n 38,\n 5,\n 8,\n 16,\n 37,\n 2,\n 1,\n 0,\n 29,\n 1,\n 40,\n 14,\n 1,\n 4,\n 16,\n 38,\n 9,\n 30,\n 14,\n 4,\n 25,\n 21,\n 30,\n 1,\n 1,\n 30,\n 29,\n 30,\n 32,\n 22,\n 26,\n 8,\n 40,\n 4,\n 16,\n 23,\n 16,\n 2,\n 0,\n 4,\n 33,\n 36,\n 4,\n 33,\n 0,\n 11,\n 32,\n 29,\n 14,\n 21,\n 23,\n 28,\n 26,\n 33,\n 28,\n 33,\n 0,\n 24,\n 13,\n 11,\n 8,\n 2,\n 37,\n 27,\n 24,\n 9,\n 29,\n 2,\n 26,\n 1,\n 25,\n 20,\n 13,\n 19,\n 22,\n 30,\n 21,\n 27,\n 30,\n 25,\n 21,\n 19,\n 40,\n 39,\n 29,\n 27,\n 29,\n 38,\n 31,\n 31,\n 11,\n 0,\n 17,\n 16,\n 23,\n 39,\n 39,\n 2,\n 40,\n 29,\n 36,\n 27,\n 16,\n 12,\n 8,\n 34,\n 16,\n 29,\n 6,\n 11,\n 10,\n 29,\n 12,\n 21,\n 26,\n 20,\n 16,\n 19,\n 33,\n 19,\n 32,\n 39,\n 23,\n 34,\n 3,\n 21,\n 7,\n 13,\n 27,\n 7,\n 33,\n 7,\n 36,\n 29,\n 32,\n 1,\n 10,\n 23,\n 39,\n 7,\n 14,\n 38,\n 27,\n 17,\n 27,\n 13,\n 16,\n 31,\n 4,\n 15,\n 19,\n 26,\n 37,\n 38,\n 2,\n 11,\n 13,\n 14,\n 32,\n 15,\n 6,\n 5,\n 28,\n 39,\n 26,\n 25,\n 18,\n 28,\n 11,\n 8,\n 1,\n 15,\n 23,\n 0,\n 14,\n 39,\n 19,\n 3,\n 37,\n 17,\n 29,\n 16,\n 32,\n 7,\n 37,\n 38,\n 4,\n 30,\n 1,\n 20,\n 39,\n 31,\n 12,\n 23,\n 10,\n 26,\n 28,\n 38,\n 29,\n 12,\n 31,\n 13,\n 34,\n 1,\n 10,\n 19,\n 1,\n 9,\n 39,\n 29,\n 38,\n 7,\n 14,\n 20,\n 10,\n 36,\n 31,\n 22,\n 33,\n 0,\n 7,\n 14,\n 38,\n 11,\n 39,\n 26,\n 1,\n 23,\n 25,\n 23,\n 23,\n 4,\n 34,\n 13,\n 12,\n 26,\n 31,\n 7,\n 15,\n 34,\n 16,\n 22,\n 28,\n 9,\n 35,\n 19,\n 10,\n 32,\n 32,\n 38,\n 6,\n 30,\n 37,\n 31,\n 30,\n 17,\n 3,\n 40,\n 12,\n 31,\n 35,\n 10,\n 20,\n 14,\n 12,\n 16,\n 4,\n 4,\n 39,\n 2,\n 13,\n 1,\n 31,\n 39,\n 16,\n 6,\n 18,\n 21,\n 28,\n 27,\n 39,\n 29,\n 5,\n 4,\n 31,\n 11,\n 31,\n 10,\n 15,\n 5,\n 13,\n 34,\n 16,\n 38,\n 30,\n 12,\n 12,\n 37,\n 4,\n 26,\n 24,\n 21,\n 9,\n 10,\n 15,\n 29,\n 38,\n 26,\n 2,\n 18,\n 9,\n 1,\n 15,\n 18,\n 32,\n 10,\n 4,\n 11,\n 18,\n 35,\n 32,\n 1,\n 14,\n 15,\n 36,\n 18,\n 21,\n 30,\n 21,\n 22,\n 5,\n 2,\n 13,\n 9,\n 1,\n 7,\n 2,\n 36,\n 13,\n 38,\n 36,\n 37,\n 11,\n 12,\n 25,\n 2,\n 22,\n 5,\n 29,\n 16,\n 25,\n 36,\n 31,\n 16,\n 19,\n 2,\n 8,\n 23,\n 11,\n 39,\n 27,\n 34,\n 37,\n 32,\n 26,\n 23,\n 1,\n 27,\n 29,\n 24,\n 13,\n 17,\n 38,\n 26,\n 23,\n 25,\n 13,\n 23,\n 15,\n 14,\n 2,\n 17,\n 13,\n 18,\n 37,\n 16,\n 16,\n 2,\n 16,\n 10,\n 5,\n 33,\n 12,\n 30,\n 2,\n 19,\n 2,\n 15,\n 31,\n 4,\n 25,\n 34,\n 33,\n 26,\n 2,\n 24,\n 35,\n 5,\n 4,\n 30,\n 2,\n 18,\n 1,\n 8,\n 2,\n 5,\n 11,\n 28,\n 37,\n 21,\n 26,\n 2,\n 26,\n 33,\n 10,\n 22,\n 5,\n 17,\n 9,\n 25,\n 33,\n 0,\n 15,\n 12,\n 30,\n 1,\n 11,\n 36,\n 31,\n 14,\n 39,\n 17,\n 25,\n 12,\n 0,\n 20,\n 39,\n 7,\n 4,\n 12,\n 26,\n 26,\n 25,\n 14,\n 29,\n 30,\n 16,\n 2,\n 5,\n 22,\n 31,\n 12,\n 9,\n 12,\n 3,\n 35,\n 1,\n 28,\n 39,\n 15,\n 37,\n 25,\n 25,\n 16,\n 0,\n 39,\n 23,\n 12,\n 16,\n 29,\n 17,\n 1,\n 18,\n 28,\n 14,\n 17,\n 17,\n 23,\n 32,\n 5,\n 37,\n 13,\n 21,\n 28,\n 28,\n 24,\n 29,\n 9,\n 27,\n 13,\n 25,\n 24,\n 8,\n 10,\n 37,\n 15,\n 16,\n 40,\n 38,\n 14,\n 8,\n 29,\n 8,\n 29,\n 29,\n 34,\n 1,\n 16,\n 29,\n 14,\n 38,\n 38,\n 2,\n 0,\n 5,\n 31,\n 12,\n 14,\n 35,\n 4,\n 8,\n ...]"
      ]
     },
     "execution_count": 125,
     "metadata": {},
     "output_type": "execute_result"
    }
   ],
   "source": [
    "list(train_set.label_idx)"
   ]
  },
  {
   "cell_type": "code",
   "execution_count": 2,
   "metadata": {},
   "outputs": [],
   "source": [
    "train = pd.read_csv(\"./dataset/train.csv\")\n",
    "test = pd.read_csv(\"./dataset/sample_submission.csv\")\n",
    "LABELS = list(train.label.unique())\n",
    "label_idx = {label: i for i, label in enumerate(LABELS)}\n",
    "#train.set_index(\"fname\", inplace=True)\n",
    "#test.set_index(\"fname\", inplace=True)\n",
    "train[\"label_idx\"] = train.label.apply(lambda x: label_idx[x])"
   ]
  },
  {
   "cell_type": "code",
   "execution_count": 3,
   "metadata": {},
   "outputs": [],
   "source": [
    "from sklearn.model_selection import StratifiedKFold\n",
    "skf = StratifiedKFold(n_splits=10)\n",
    "#skf.get_n_splits(train.label_idx)\n"
   ]
  },
  {
   "cell_type": "code",
   "execution_count": 5,
   "metadata": {},
   "outputs": [
    {
     "name": "stdout",
     "output_type": "stream",
     "text": [
      "torch.Size([32])\ntorch.Size([32, 40, 187])\n8518\n"
     ]
    }
   ],
   "source": [
    "from data.dataset  import *\n",
    "for i, (train_split, valid_split) in enumerate(skf.split(train.fname, train.label_idx)):\n",
    "    #for i, (train_split, val_split) in enumerate(skf):\n",
    "    train_set = train.iloc[train_split]\n",
    "    valid_set = train.iloc[valid_split]\n",
    "    train_loader, valid_loader = DataGenerator(Config(),train_set.fname,train_set.label_idx,\n",
    "                                                    valid_set.fname,valid_set.label_idx)\n",
    "    for index, (data, label) in enumerate(train_loader):\n",
    "        print(label.shape)\n",
    "        print(data.shape)\n",
    "        #plt.imshow(data.squeeze().numpy()[ :, :50],cmap='hot', interpolation='nearest')\n",
    "        #plt.show()\n",
    "        \n",
    "\n",
    "        if index == 0:\n",
    "            break\n",
    "    print(len(train_set))\n",
    "    if i==0: break"
   ]
  },
  {
   "cell_type": "code",
   "execution_count": 9,
   "metadata": {},
   "outputs": [
    {
     "name": "stdout",
     "output_type": "stream",
     "text": [
      "{'Hi-hat': 0, 'Saxophone': 1, 'Trumpet': 2, 'Glockenspiel': 3, 'Cello': 4, 'Knock': 5, 'Gunshot_or_gunfire': 6, 'Clarinet': 7, 'Computer_keyboard': 8, 'Keys_jangling': 9, 'Snare_drum': 10, 'Writing': 11, 'Laughter': 12, 'Tearing': 13, 'Fart': 14, 'Oboe': 15, 'Flute': 16, 'Cough': 17, 'Telephone': 18, 'Bark': 19, 'Chime': 20, 'Bass_drum': 21, 'Bus': 22, 'Squeak': 23, 'Scissors': 24, 'Harmonica': 25, 'Gong': 26, 'Microwave_oven': 27, 'Burping_or_eructation': 28, 'Double_bass': 29, 'Shatter': 30, 'Fireworks': 31, 'Tambourine': 32, 'Cowbell': 33, 'Electric_piano': 34, 'Meow': 35, 'Drawer_open_or_close': 36, 'Applause': 37, 'Acoustic_guitar': 38, 'Violin_or_fiddle': 39, 'Finger_snapping': 40}\n"
     ]
    }
   ],
   "source": [
    "print(label_idx)"
   ]
  },
  {
   "cell_type": "code",
   "execution_count": 13,
   "metadata": {},
   "outputs": [],
   "source": [
    "a = torch.zeros([16,32])"
   ]
  },
  {
   "cell_type": "code",
   "execution_count": 16,
   "metadata": {},
   "outputs": [
    {
     "data": {
      "text/plain": [
       "torch.Size([16, 1, 32])"
      ]
     },
     "execution_count": 16,
     "metadata": {},
     "output_type": "execute_result"
    }
   ],
   "source": [
    "a.unsqueeze(1).shape"
   ]
  },
  {
   "cell_type": "code",
   "execution_count": null,
   "metadata": {},
   "outputs": [],
   "source": []
  }
 ],
 "metadata": {
  "kernelspec": {
   "display_name": "Python 2",
   "language": "python",
   "name": "python2"
  },
  "language_info": {
   "codemirror_mode": {
    "name": "ipython",
    "version": 2
   },
   "file_extension": ".py",
   "mimetype": "text/x-python",
   "name": "python",
   "nbconvert_exporter": "python",
   "pygments_lexer": "ipython2",
   "version": "2.7.6"
  }
 },
 "nbformat": 4,
 "nbformat_minor": 0
}
